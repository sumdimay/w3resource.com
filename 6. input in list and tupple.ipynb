{
 "cells": [
  {
   "cell_type": "code",
   "execution_count": 1,
   "metadata": {},
   "outputs": [
    {
     "data": {
      "text/plain": [
       "'6. Write a Python program which accepts a sequence of comma-separated numbers \\nuser and generate a list and a tuple with those numbers. '"
      ]
     },
     "execution_count": 1,
     "metadata": {},
     "output_type": "execute_result"
    }
   ],
   "source": [
    "'''6. Write a Python program which accepts a sequence of comma-separated numbers \n",
    "user and generate a list and a tuple with those numbers. '''"
   ]
  },
  {
   "cell_type": "code",
   "execution_count": 2,
   "metadata": {},
   "outputs": [
    {
     "name": "stdout",
     "output_type": "stream",
     "text": [
      "Enter some numbers: 12345ghjkl\n",
      "List is:  ['12345ghjkl']\n",
      "Tuple is:  ('12345ghjkl',)\n"
     ]
    }
   ],
   "source": [
    "values = input('Enter some numbers: ')\n",
    "list = values.split(\",\")\n",
    "tuple = tuple(list)\n",
    "print('List is: ',list)\n",
    "print('Tuple is: ',tuple)"
   ]
  },
  {
   "cell_type": "code",
   "execution_count": null,
   "metadata": {},
   "outputs": [],
   "source": []
  }
 ],
 "metadata": {
  "kernelspec": {
   "display_name": "Python 3",
   "language": "python",
   "name": "python3"
  },
  "language_info": {
   "codemirror_mode": {
    "name": "ipython",
    "version": 3
   },
   "file_extension": ".py",
   "mimetype": "text/x-python",
   "name": "python",
   "nbconvert_exporter": "python",
   "pygments_lexer": "ipython3",
   "version": "3.7.6"
  }
 },
 "nbformat": 4,
 "nbformat_minor": 4
}
